{
 "cells": [
  {
   "cell_type": "markdown",
   "metadata": {},
   "source": [
    "**Author:** Maciej Tarsa <br>\n",
    "**Date:** 26 December 2020"
   ]
  },
  {
   "cell_type": "markdown",
   "metadata": {},
   "source": [
    "# Mean-Variance-Standard Deviation Calculator"
   ]
  },
  {
   "cell_type": "markdown",
   "metadata": {},
   "source": [
    "This is the implementation of the project from Data Analysis with Python course at freeCodeCamp.org"
   ]
  },
  {
   "cell_type": "markdown",
   "metadata": {},
   "source": [
    "### Assignment"
   ]
  },
  {
   "cell_type": "markdown",
   "metadata": {},
   "source": [
    "Create a function named calculate() in mean_var_std.py that uses Numpy to output the mean, variance, standard deviation, max, min, and sum of the rows, columns, and elements in a 3 x 3 matrix.\n",
    "\n",
    "The input of the function should be a list containing 9 digits. The function should convert the list into a 3 x 3 Numpy array, and then return a dictionary containing the mean, variance, standard deviation, max, min, and sum along both axes and for the flattened matrix.\n",
    "\n",
    "The returned dictionary should follow this format:\n",
    "\n",
    "```{\n",
    "  'mean': [axis1, axis2, flattened],\n",
    "  'variance': [axis1, axis2, flattened],\n",
    "  'standard deviation': [axis1, axis2, flattened],\n",
    "  'max': [axis1, axis2, flattened],\n",
    "  'min': [axis1, axis2, flattened],\n",
    "  'sum': [axis1, axis2, flattened]\n",
    "}```\n",
    "\n",
    "If a list containing less than 9 elements is passed into the function, it should raise a `ValueError` exception with the message: \"List must contain nine numbers.\" The values in the returned dictionary should be lists and not Numpy arrays.\n",
    "\n",
    "For example, `calculate([0,1,2,3,4,5,6,7,8])` should return:\n",
    "\n",
    "```{\n",
    "  'mean': [[3.0, 4.0, 5.0], [1.0, 4.0, 7.0], 4.0], \n",
    "  'variance': [[6.0, 6.0, 6.0], [0.6666666666666666, 0.6666666666666666, 0.6666666666666666], 6.666666666666667], \n",
    "  'standard deviation': [[2.449489742783178, 2.449489742783178, 2.449489742783178], [0.816496580927726, 0.816496580927726, 0.816496580927726], 2.581988897471611],\n",
    "  'max': [[6, 7, 8], [2, 5, 8], 8],\n",
    "  'min': [[0, 1, 2], [0, 3, 6], 0],\n",
    "  'sum': [[9, 12, 15], [3, 12, 21], 36]}\n",
    "}```"
   ]
  },
  {
   "cell_type": "markdown",
   "metadata": {},
   "source": [
    "### Solution"
   ]
  },
  {
   "cell_type": "code",
   "execution_count": 2,
   "metadata": {},
   "outputs": [],
   "source": [
    "import numpy as np"
   ]
  },
  {
   "cell_type": "code",
   "execution_count": 69,
   "metadata": {},
   "outputs": [],
   "source": [
    "def calculate(list):\n",
    "    # check if the list contains 9 elements \n",
    "    if len(list) != 9:\n",
    "        # if it doesn't - raise a ValueError\n",
    "        raise ValueError('List must contain nine numbers.')\n",
    "    \n",
    "    # otherwise, execute the function\n",
    "    else:\n",
    "        # convert the list to 3x3 NumPy array\n",
    "        arr = np.array(list).reshape(3,3)\n",
    "        # create an empty dictionary\n",
    "        calculations = {}\n",
    "        # for each mathematical operation, create a list\n",
    "        mean = [np.mean(arr, axis=0).tolist(), np.mean(arr, axis=1).tolist(), np.mean(arr)]\n",
    "        variance = [np.var(arr, axis=0).tolist(), np.var(arr,axis=1).tolist(), np.var(arr)]\n",
    "        standard_deviation = [np.std(arr, axis=0).tolist(), np.std(arr,axis=1).tolist(), np.std(arr)]\n",
    "        maximum = [np.max(arr, axis=0).tolist(), np.max(arr, axis=1).tolist(), np.max(arr)]\n",
    "        minimum = [np.min(arr, axis=0).tolist(), np.min(arr, axis=1).tolist(), np.min(arr)]\n",
    "        sum_sum = [np.sum(arr, axis=0).tolist(), np.sum(arr, axis=1).tolist(), np.sum(arr)]\n",
    "\n",
    "        # and then add each to the dictionary\n",
    "        calculations['mean'] = mean\n",
    "        calculations['variance'] = variance\n",
    "        calculations['standard deviation'] = standard_deviation\n",
    "        calculations['max'] = maximum\n",
    "        calculations['min'] = minimum\n",
    "        calculations['sum'] = sum_sum \n",
    "\n",
    "        # return the dictionary\n",
    "        return calculations"
   ]
  },
  {
   "cell_type": "markdown",
   "metadata": {},
   "source": [
    "### Test the solution"
   ]
  },
  {
   "cell_type": "code",
   "execution_count": 71,
   "metadata": {},
   "outputs": [
    {
     "data": {
      "text/plain": [
       "{'mean': [[3.0, 4.0, 5.0], [1.0, 4.0, 7.0], 4.0],\n",
       " 'variance': [[6.0, 6.0, 6.0],\n",
       "  [0.6666666666666666, 0.6666666666666666, 0.6666666666666666],\n",
       "  6.666666666666667],\n",
       " 'standard deviation': [[2.449489742783178,\n",
       "   2.449489742783178,\n",
       "   2.449489742783178],\n",
       "  [0.816496580927726, 0.816496580927726, 0.816496580927726],\n",
       "  2.581988897471611],\n",
       " 'max': [[6, 7, 8], [2, 5, 8], 8],\n",
       " 'min': [[0, 1, 2], [0, 3, 6], 0],\n",
       " 'sum': [[9, 12, 15], [3, 12, 21], 36]}"
      ]
     },
     "execution_count": 71,
     "metadata": {},
     "output_type": "execute_result"
    }
   ],
   "source": [
    "(calculate([0,1,2,3,4,5,6,7,8]))"
   ]
  }
 ],
 "metadata": {
  "kernelspec": {
   "display_name": "Python 3",
   "language": "python",
   "name": "python3"
  },
  "language_info": {
   "codemirror_mode": {
    "name": "ipython",
    "version": 3
   },
   "file_extension": ".py",
   "mimetype": "text/x-python",
   "name": "python",
   "nbconvert_exporter": "python",
   "pygments_lexer": "ipython3",
   "version": "3.8.5"
  }
 },
 "nbformat": 4,
 "nbformat_minor": 4
}
